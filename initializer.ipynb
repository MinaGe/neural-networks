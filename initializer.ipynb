{
 "cells": [
  {
   "cell_type": "code",
   "execution_count": 1,
   "metadata": {},
   "outputs": [],
   "source": [
    "import tensorflow as tf\n",
    "import numpy as np\n",
    "import matplotlib.pyplot as plt"
   ]
  },
  {
   "cell_type": "code",
   "execution_count": 2,
   "metadata": {},
   "outputs": [],
   "source": [
    "N, D, H =64, 1000, 100\n",
    "x=tf.placeholder(tf.float32, shape=(N, D))\n",
    "y=tf.placeholder(tf.float32, shape=(N, D))\n",
    "init=tf.variance_scaling_initializer(2.0)\n",
    "h=tf.layers.dense(inputs=x, units=H,\n",
    "                         activation=tf.nn.relu, kernel_initializer=init)\n",
    "y_pred=tf.layers.dense(inputs=h, units=D, kernel_initializer=init)\n"
   ]
  },
  {
   "cell_type": "code",
   "execution_count": 13,
   "metadata": {},
   "outputs": [],
   "source": [
    "loss=tf.losses.mean_squared_error(y_pred, y)\n",
    "optimizer=tf.train.GradientDescentOptimizer(1e-1)\n",
    "updates=optimizer.minimize(loss)"
   ]
  },
  {
   "cell_type": "code",
   "execution_count": 14,
   "metadata": {},
   "outputs": [
    {
     "data": {
      "image/png": "[encoded data removed]",
      "text/plain": [
       "<Figure size 432x288 with 1 Axes>"
      ]
     },
     "metadata": {
      "needs_background": "light"
     },
     "output_type": "display_data"
    },
    {
     "name": "stdout",
     "output_type": "stream",
     "text": [
      "3.0391924 0.98220986\n"
     ]
    }
   ],
   "source": [
    "with tf.Session() as sess:\n",
    "    sess.run(tf.global_variables_initializer())\n",
    "    values={x:np.random.randn(N, D),\n",
    "           y:np.random.randn(N, D),}\n",
    "    steps=50\n",
    "    loss_summary=[]\n",
    "    for t in range(steps):\n",
    "        loss_val,_=sess.run([loss , updates], feed_dict=values)\n",
    "        loss_summary.append(loss_val)\n",
    "    plt.plot(range(steps), loss_summary, 'ro',label='loss_value')\n",
    "    plt.show()\n",
    "    print(loss_summary[0],loss_summary[steps-1])"
   ]
  },
  {
   "cell_type": "code",
   "execution_count": null,
   "metadata": {},
   "outputs": [],
   "source": []
  }
 ],
 "metadata": {
  "kernelspec": {
   "display_name": "NNlab",
   "language": "python",
   "name": "nnlab"
  },
  "language_info": {
   "codemirror_mode": {
    "name": "ipython",
    "version": 3
   },
   "file_extension": ".py",
   "mimetype": "text/x-python",
   "name": "python",
   "nbconvert_exporter": "python",
   "pygments_lexer": "ipython3",
   "version": "3.6.6"
  }
 },
 "nbformat": 4,
 "nbformat_minor": 2
}
