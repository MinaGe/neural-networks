{
 "cells": [
  {
   "cell_type": "code",
   "execution_count": 2,
   "metadata": {},
   "outputs": [],
   "source": [
    "import tensorflow as tf\n",
    "import numpy as np \n",
    "import matplotlib.pyplot as plt\n"
   ]
  },
  {
   "cell_type": "code",
   "execution_count": 3,
   "metadata": {},
   "outputs": [],
   "source": [
    "N, D, H= 64 ,1000, 100\n",
    "x=tf.placeholder(tf.float32, shape=(N,D))\n",
    "y=tf.placeholder(tf.float32, shape=(N,D))\n",
    "w1=tf.Variable(tf.random_normal((D,H)))\n",
    "w2=tf.Variable(tf.random_normal((H,D)))\n",
    "h=tf.maximum(tf.matmul(x,w1),0)\n",
    "y_pred=tf.matmul(h,w2)\n",
    "diff=y_pred-y\n",
    "loss=tf.reduce_mean(tf.reduce_sum(diff**2,axis=1))\n",
    "grad_w1,grad_w2=tf.gradients(loss,[w1,w2])\n",
    "r=0.99\n",
    "learning_rate=1e-3\n",
    "vx_1=0\n",
    "vx_2=0\n",
    "vx_1=r*vx_1-(learning_rate*grad_w1)\n",
    "vx_2=r*vx_2-(learning_rate*grad_w2)\n",
    "x_w1=w1+vx_1\n",
    "x_w2=w2+vx_2\n",
    "new_w1=w1.assign(x_w1)\n",
    "new_w2=w2.assign(x_w2)\n",
    "updates=tf.group(new_w1,new_w2)\n"
   ]
  },
  {
   "cell_type": "code",
   "execution_count": 7,
   "metadata": {},
   "outputs": [
    {
     "data": {
      "image/png": "[encoded data removed]",
      "text/plain": [
       "<Figure size 432x288 with 1 Axes>"
      ]
     },
     "metadata": {
      "needs_background": "light"
     },
     "output_type": "display_data"
    },
    {
     "name": "stdout",
     "output_type": "stream",
     "text": [
      "7020100.5 332.08282\n"
     ]
    }
   ],
   "source": [
    "with tf.Session() as sess:\n",
    "    sess.run(tf.global_variables_initializer())\n",
    "    values = {x: np.random.rand (N, D), y: np.random.rand (N, D)}\n",
    "    step = 50\n",
    "    loss_summary = []\n",
    "    for i in range(step):\n",
    "        out, _ = sess.run([loss, updates], feed_dict=values)\n",
    "        loss_summary.append(out )\n",
    "    plt.plot(range(step), loss_summary, 'ro', label='loss_val')\n",
    "    plt.show()\n",
    "    print(loss_summary[1],loss_summary[step-1])"
   ]
  },
  {
   "cell_type": "code",
   "execution_count": null,
   "metadata": {},
   "outputs": [],
   "source": []
  },
  {
   "cell_type": "code",
   "execution_count": null,
   "metadata": {},
   "outputs": [],
   "source": []
  }
 ],
 "metadata": {
  "kernelspec": {
   "display_name": "NNlab",
   "language": "python",
   "name": "nnlab"
  },
  "language_info": {
   "codemirror_mode": {
    "name": "ipython",
    "version": 3
   },
   "file_extension": ".py",
   "mimetype": "text/x-python",
   "name": "python",
   "nbconvert_exporter": "python",
   "pygments_lexer": "ipython3",
   "version": "3.6.6"
  }
 },
 "nbformat": 4,
 "nbformat_minor": 2
}
