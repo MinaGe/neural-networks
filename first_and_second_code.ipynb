{
 "cells": [
  {
   "cell_type": "code",
   "execution_count": 12,
   "metadata": {},
   "outputs": [],
   "source": [
    "import numpy as np\n",
    "import matplotlib.pyplot as plt\n",
    "import tensorflow as tf\n",
    "\n",
    "    \n",
    "    "
   ]
  },
  {
   "cell_type": "code",
   "execution_count": 13,
   "metadata": {},
   "outputs": [],
   "source": [
    "n, d, H =64, 1000, 100\n",
    "x=tf.placeholder(tf.float32, shape=(n, d))\n",
    "y=tf.placeholder(tf.float32, shape=(n, d))\n",
    "w1=tf.placeholder(tf.float32, shape=(d, H))\n",
    "w2=tf.placeholder(tf.float32, shape=(H, d))\n",
    "\n",
    "h=tf.maximum(tf.matmul(x,w1),0)\n",
    "y_pred=tf.matmul(h,w2)\n",
    "diff=y_pred-y\n",
    "loss=tf.reduce_mean(tf.reduce_sum(diff**2,axis=1))\n",
    "grad_w1, grad_w2=tf.gradients(loss,[w1,w2])\n",
    "\n"
   ]
  },
  {
   "cell_type": "code",
   "execution_count": 14,
   "metadata": {},
   "outputs": [
    {
     "name": "stdout",
     "output_type": "stream",
     "text": [
      "[51708136.0, array([[  2102.661  ,  -4821.6694 ,   -857.9868 , ...,   -664.67596,\n",
      "          -313.58582,  -3317.3218 ],\n",
      "       [-10375.58   , -10418.0205 ,   5804.837  , ...,  -1400.1492 ,\n",
      "         -7396.744  ,   3464.1235 ],\n",
      "       [  3248.5725 ,   8064.26   ,   2509.906  , ...,   4436.066  ,\n",
      "          1302.6635 ,  10668.78   ],\n",
      "       ...,\n",
      "       [  6105.006  ,  -6724.0596 ,  -3695.7275 , ...,    257.7393 ,\n",
      "         -2333.9832 ,   6423.163  ],\n",
      "       [ -9225.953  ,  -6002.257  ,  -4406.38   , ...,    807.1233 ,\n",
      "         -1106.814  ,   1684.9213 ],\n",
      "       [  8625.585  ,  -7408.3276 ,   4454.4077 , ...,   3133.8586 ,\n",
      "          4784.76   ,  -2722.006  ]], dtype=float32), array([[-11789.503  ,    515.4127 ,  -1901.1317 , ...,   8007.798  ,\n",
      "         -1503.9869 ,   2779.0024 ],\n",
      "       [ -9302.678  ,   2276.5903 ,  -1519.0604 , ...,   7383.941  ,\n",
      "          -791.34033,   -303.86163],\n",
      "       [-10583.683  ,    533.8121 ,  -4656.9707 , ...,   7117.014  ,\n",
      "          -660.98724,   -892.05133],\n",
      "       ...,\n",
      "       [-11531.866  ,   1905.0779 ,  -4099.37   , ...,   8652.232  ,\n",
      "         -1795.8131 ,   -455.67966],\n",
      "       [ -6815.6016 ,   1161.7435 ,  -2856.0818 , ...,   4315.5596 ,\n",
      "           355.75122,    -93.06369],\n",
      "       [ -9142.522  ,    163.3489 ,  -3931.853  , ...,   5786.96   ,\n",
      "          -504.77576,   -542.7613 ]], dtype=float32)]\n"
     ]
    }
   ],
   "source": [
    "with tf.Session() as sess:\n",
    "    values = {\n",
    "        x: np.random.randn(n, d),\n",
    "        w1: np.random.randn(d, H),\n",
    "        w2: np.random.randn(H, d),\n",
    "        y: np.random.randn(n, d),\n",
    "    }\n",
    "    out=sess.run([loss, grad_w1, grad_w2 ],feed_dict=values)\n",
    "    loss_val, grad_w1_val, grad_w2_val = out\n",
    "    print(out)"
   ]
  },
  {
   "cell_type": "code",
   "execution_count": 27,
   "metadata": {},
   "outputs": [
    {
     "data": {
      "text/plain": [
       "array([[-0.52809668,  1.70509929,  1.8691161 , ...,  0.0130247 ,\n",
       "         0.85021878, -1.24044352],\n",
       "       [ 1.12014176,  1.54849165,  1.40306113, ..., -1.30520241,\n",
       "         1.18505096,  0.53183311],\n",
       "       [ 0.90232167,  0.68982926,  0.45401618, ..., -1.0124697 ,\n",
       "        -1.66943004, -0.38202709],\n",
       "       ...,\n",
       "       [ 0.17187122,  1.23435164,  0.87666106, ...,  0.13734967,\n",
       "         0.5513156 , -0.40730531],\n",
       "       [ 0.74684412,  0.47367077,  0.63705554, ..., -0.9287613 ,\n",
       "         0.62968042, -0.8887659 ],\n",
       "       [ 0.62374901, -1.5314664 ,  1.3538418 , ...,  0.27235884,\n",
       "        -1.45837411,  2.68387367]])"
      ]
     },
     "execution_count": 27,
     "metadata": {},
     "output_type": "execute_result"
    }
   ],
   "source": [
    "np.random.randn(n, d)"
   ]
  },
  {
   "cell_type": "code",
   "execution_count": 37,
   "metadata": {},
   "outputs": [
    {
     "name": "stdout",
     "output_type": "stream",
     "text": [
      "Tensor(\"Placeholder_66:0\", shape=(1000, 100), dtype=float32)\n"
     ]
    }
   ],
   "source": [
    "print(w1)"
   ]
  },
  {
   "cell_type": "code",
   "execution_count": 42,
   "metadata": {},
   "outputs": [
    {
     "data": {
      "text/plain": [
       "1000"
      ]
     },
     "execution_count": 42,
     "metadata": {},
     "output_type": "execute_result"
    }
   ],
   "source": [
    "d"
   ]
  },
  {
   "cell_type": "code",
   "execution_count": 43,
   "metadata": {},
   "outputs": [
    {
     "data": {
      "text/plain": [
       "<tf.Tensor 'Maximum_13:0' shape=(64, 100) dtype=float32>"
      ]
     },
     "execution_count": 43,
     "metadata": {},
     "output_type": "execute_result"
    }
   ],
   "source": [
    "h"
   ]
  },
  {
   "cell_type": "code",
   "execution_count": 18,
   "metadata": {},
   "outputs": [
    {
     "data": {
      "image/png": "[encoded data removed]",
      "text/plain": [
       "<Figure size 432x288 with 1 Axes>"
      ]
     },
     "metadata": {
      "needs_background": "light"
     },
     "output_type": "display_data"
    },
    {
     "name": "stdout",
     "output_type": "stream",
     "text": [
      "47844730.0 984.5895\n"
     ]
    }
   ],
   "source": [
    "with tf.Session() as sess:\n",
    "    values = {\n",
    "        x: np.random.randn(n, d),\n",
    "        w1: np.random.randn(d, H),\n",
    "        w2: np.random.randn(H, d),\n",
    "        y: np.random.randn(n, d),}\n",
    "    learning_rate =1e-5\n",
    "    loss_summary=[]\n",
    "    steps=50\n",
    "    for t in range(steps):\n",
    "        out = sess.run([loss, grad_w1, grad_w2],feed_dict=values)\n",
    "        loss_val, grad_w1_val, grad_w2_val = out\n",
    "        values[w1] -= learning_rate * grad_w1_val\n",
    "        values[w1] -= learning_rate * grad_w1_val\n",
    "        loss_summary.append(loss_val)\n",
    "    plt.plot(range(steps), loss_summary, 'ro',label='loss_value')\n",
    "    plt.show()\n",
    "    print(loss_summary[0],loss_summary[steps-1])"
   ]
  },
  {
   "cell_type": "code",
   "execution_count": null,
   "metadata": {},
   "outputs": [],
   "source": []
  },
  {
   "cell_type": "code",
   "execution_count": null,
   "metadata": {},
   "outputs": [],
   "source": []
  }
 ],
 "metadata": {
  "kernelspec": {
   "display_name": "NNlab",
   "language": "python",
   "name": "nnlab"
  },
  "language_info": {
   "codemirror_mode": {
    "name": "ipython",
    "version": 3
   },
   "file_extension": ".py",
   "mimetype": "text/x-python",
   "name": "python",
   "nbconvert_exporter": "python",
   "pygments_lexer": "ipython3",
   "version": "3.6.6"
  }
 },
 "nbformat": 4,
 "nbformat_minor": 2
}
