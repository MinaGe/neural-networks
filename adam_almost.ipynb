{
 "cells": [
  {
   "cell_type": "code",
   "execution_count": 15,
   "metadata": {},
   "outputs": [],
   "source": [
    "import tensorflow as tf\n",
    "import numpy as np\n",
    "import matplotlib.pylab as plt"
   ]
  },
  {
   "cell_type": "code",
   "execution_count": 16,
   "metadata": {},
   "outputs": [],
   "source": [
    "N,D,H=64,1000,100\n",
    "x=tf.placeholder(tf.float32,shape=(N,D))\n",
    "y=tf.placeholder(tf.float32,shape=(N,D))\n",
    "w1=tf.Variable(tf.random_normal((D,H)))\n",
    "w2=tf.Variable(tf.random_normal((H,D)))\n",
    "h=tf.maximum(tf.matmul(x,w1),0)\n",
    "y_pred=tf.matmul(h,w2)\n",
    "diff=y_pred-y\n",
    "loss=tf.reduce_mean(tf.reduce_sum(diff**2, axis=1))\n",
    "grad_w1,grad_w2=tf.gradients(loss,[w1,w2])\n",
    "learning_rate=1e-3\n",
    "first_momentw1=0\n",
    "first_momentw2=0\n",
    "second_momentw1=0\n",
    "second_momentw2=0\n",
    "beta1 = 0.9\n",
    "beta2 = 0.999\n",
    "first_momentw1=beta1*first_momentw1+(1-beta1)*grad_w1\n",
    "second_momentw1=beta2*second_momentw1+(1-beta2)*grad_w1*grad_w1\n",
    "first_momentw2=beta1*first_momentw2+(1-beta1)*grad_w2\n",
    "secomd_momentw2=beta2*second_momentw2+(1-beta2)*grad_w2*grad_w2\n",
    "x_w1 = w1 - learning_rate * grad_w1 / (tf.sqrt(second_momentw1) + 1e-7)\n",
    "x_w2 = w2 - learning_rate * grad_w2 / (tf.sqrt(secomd_momentw2) + 1e-7)\n",
    "new_w1 = w1.assign(x_w1)\n",
    "new_w2 = w2.assign(x_w2)\n",
    "updates = tf.group(new_w1,new_w2)\n"
   ]
  },
  {
   "cell_type": "code",
   "execution_count": 36,
   "metadata": {},
   "outputs": [
    {
     "data": {
      "image/png": "[encoded data removed]",
      "text/plain": [
       "<Figure size 432x288 with 1 Axes>"
      ]
     },
     "metadata": {
      "needs_background": "light"
     },
     "output_type": "display_data"
    },
    {
     "name": "stdout",
     "output_type": "stream",
     "text": [
      "3223480.0 333.44617\n"
     ]
    }
   ],
   "source": [
    "with tf.Session() as sess:\n",
    "    sess.run(tf.global_variables_initializer())\n",
    "    values={x: np.random.rand(N,D),y: np.random.rand(N,D)}\n",
    "    step=500\n",
    "    loss_summary=[]\n",
    "    for i in range (step):\n",
    "        out, _= sess.run([loss, updates], feed_dict=values)\n",
    "        loss_val = out\n",
    "        loss_summary.append(out)\n",
    "    plt.plot(range(step), loss_summary, 'ro', label='loss_val')\n",
    "    plt.show()\n",
    "    print(loss_summary[1],loss_summary[step-1])\n",
    "    "
   ]
  },
  {
   "cell_type": "code",
   "execution_count": 31,
   "metadata": {},
   "outputs": [
    {
     "name": "stdout",
     "output_type": "stream",
     "text": [
      "Tensor(\"gradients_3/MatMul_10_grad/MatMul_1:0\", shape=(1000, 100), dtype=float32)\n"
     ]
    }
   ],
   "source": [
    "print(grad_w1)"
   ]
  },
  {
   "cell_type": "code",
   "execution_count": null,
   "metadata": {},
   "outputs": [],
   "source": []
  }
 ],
 "metadata": {
  "kernelspec": {
   "display_name": "NNlab",
   "language": "python",
   "name": "nnlab"
  },
  "language_info": {
   "codemirror_mode": {
    "name": "ipython",
    "version": 3
   },
   "file_extension": ".py",
   "mimetype": "text/x-python",
   "name": "python",
   "nbconvert_exporter": "python",
   "pygments_lexer": "ipython3",
   "version": "3.6.6"
  }
 },
 "nbformat": 4,
 "nbformat_minor": 2
}
