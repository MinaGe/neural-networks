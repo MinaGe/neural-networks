{
 "cells": [
  {
   "cell_type": "code",
   "execution_count": 2,
   "metadata": {},
   "outputs": [],
   "source": [
    "import numpy as np\n",
    "import matplotlib.pyplot as plt\n",
    "import tensorflow as tf\n"
   ]
  },
  {
   "cell_type": "code",
   "execution_count": 3,
   "metadata": {},
   "outputs": [],
   "source": [
    "N, D, H =64, 1000, 100\n",
    "x=tf.placeholder(tf.float32, shape=(N, D))\n",
    "y=tf.placeholder(tf.float32, shape=(N, D))\n",
    "w1=tf.Variable(tf.random_normal((D, H)))\n",
    "w2=tf.Variable(tf.random_normal((H, D)))\n",
    "\n",
    "h=tf.maximum(tf.matmul(x,w1),0)\n",
    "y_pred=tf.matmul(h,w2)\n",
    "diff=y_pred-y\n",
    "loss=tf.reduce_mean(tf.reduce_sum(diff**2,axis=1))\n",
    "grad_w1, grad_w2=tf.gradients(loss,[w1,w2])"
   ]
  },
  {
   "cell_type": "code",
   "execution_count": 4,
   "metadata": {},
   "outputs": [],
   "source": [
    "learning_rate =1e-5\n",
    "new_w1=w1.assign(w1 - learning_rate * grad_w1)\n",
    "new_w2=w2.assign(w2 - learning_rate * grad_w2)"
   ]
  },
  {
   "cell_type": "code",
   "execution_count": 9,
   "metadata": {},
   "outputs": [
    {
     "data": {
      "image/png": "[encoded data removed]",
      "text/plain": [
       "<Figure size 432x288 with 1 Axes>"
      ]
     },
     "metadata": {
      "needs_background": "light"
     },
     "output_type": "display_data"
    },
    {
     "name": "stdout",
     "output_type": "stream",
     "text": [
      "48778990.0 48778990.0\n"
     ]
    }
   ],
   "source": [
    "with tf.Session() as sess:\n",
    "    sess.run(tf.global_variables_initializer())\n",
    "    values = {x:np.random.randn(N,D),\n",
    "              y:np.random.randn(N,D),}\n",
    "    steps=500\n",
    "    loss_summary=[]\n",
    "    for t in range(steps):\n",
    "        loss_val, =sess.run([loss], feed_dict=values)\n",
    "        loss_summary.append(loss_val)\n",
    "    plt.plot(range(steps), loss_summary, 'ro',label='loss_value')\n",
    "    plt.show()\n",
    "    print(loss_summary[0],loss_summary[steps-1])\n",
    "        \n",
    "    "
   ]
  },
  {
   "cell_type": "code",
   "execution_count": null,
   "metadata": {},
   "outputs": [],
   "source": []
  }
 ],
 "metadata": {
  "kernelspec": {
   "display_name": "NNlab",
   "language": "python",
   "name": "nnlab"
  },
  "language_info": {
   "codemirror_mode": {
    "name": "ipython",
    "version": 3
   },
   "file_extension": ".py",
   "mimetype": "text/x-python",
   "name": "python",
   "nbconvert_exporter": "python",
   "pygments_lexer": "ipython3",
   "version": "3.6.6"
  }
 },
 "nbformat": 4,
 "nbformat_minor": 2
}
